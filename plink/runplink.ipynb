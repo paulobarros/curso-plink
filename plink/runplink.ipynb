{
  "cells": [
    {
      "cell_type": "raw",
      "metadata": {},
      "source": [
        "---\n",
        "title: \"Rodando o PLINK\"\n",
        "lang: pt-BR\n",
        "cap-location: margin\n",
        "csl: ../plos-biology.csl\n",
        "bibliography: ../referencias.bib\n",
        "---"
      ],
      "id": "89bddf3a"
    },
    {
      "cell_type": "markdown",
      "metadata": {},
      "source": [
        "::: {.callout-important}\n",
        "\n",
        "Meu sistema operacional é o Pop_OS!, uma distro Linux. Mesmo possuindo uma interface gráfica, muitos dos comandos e prints de tela que vocês verão nos exemplos serão executados em terminal já que em muitas das vezes a depender do volume de dados, as análises são realizadas em servidores com um maior poder computacional. Estes computadores muito provavelmente estarão rodando alguma versão de servidor do Linux sem uma interface gráfica, então é mais útil que vocês já se familiarizem com os comandos de terminal.\n",
        "\n",
        "O formato que vocês verão nos comandos será sempre o mesmo:\n",
        "\n",
        "\n",
        "```{bash}\n",
        "#| eval: false\n",
        "paulo@pop-os |> ~/Documents/GENOMICS/plink_linux_x86_64_20230116 |> tree\n",
        "\n",
        "```\n",
        "\n",
        "\n",
        "```\n",
        "paulo@pop-os : meu nome de usuario e nome da minha máquina\n",
        "\n",
        "~/Documents/GENOMICS/plink_linux_x86_64_20230116 : o caminho para o diretório no qual estou trabalhando\n",
        "\n",
        "tree : o comando que está sendo executado\n",
        "```\n",
        "\n",
        "E logo abaixo a resposta daquele comando.\n",
        "\n",
        ":::\n",
        "\n",
        "Quando fazemos o download do PLINK 1.9 observamos os seguintes arquivos:\n",
        "\n",
        "```\n",
        "paulo@pop-os |> ~/Documents/GENOMICS/plink_linux_x86_64_20230116 |> tree\n",
        "\n",
        ".\n",
        "├── LICENSE   -> arquivo de licença do PLINK\n",
        "├── plink     -> executável do PLINK\n",
        "├── prettify  -> utilitário para gerar tabelas formatadas\n",
        "├── toy.map   -> arquivo .MAP de exemplo\n",
        "└── toy.ped   -> arquivo .PED de exemplo\n",
        "```\n",
        "\n",
        "\n",
        "\n",
        "\n",
        "\n",
        "::: {#refs}\n",
        "**Referências**\n",
        ":::"
      ],
      "id": "4e55c60a"
    }
  ],
  "metadata": {
    "kernelspec": {
      "display_name": "Python 3",
      "language": "python",
      "name": "python3"
    }
  },
  "nbformat": 4,
  "nbformat_minor": 5
}